{
 "cells": [
  {
   "cell_type": "code",
   "execution_count": 15,
   "metadata": {},
   "outputs": [],
   "source": [
    "import os\n",
    "from lxml import html\n",
    "import pandas as pd\n",
    "from bs4 import BeautifulSoup\n",
    "import html5lib\n",
    "import os\n",
    "import pandas as pd\n",
    "from bs4 import BeautifulSoup"
   ]
  },
  {
   "cell_type": "code",
   "execution_count": 16,
   "metadata": {},
   "outputs": [],
   "source": [
    "# Function to extract reels data from HTML content\n",
    "def extract_text_info(html_content):\n",
    "    soup = BeautifulSoup(html_content, 'html.parser')\n",
    "    \n",
    "    # Find all reels data blocks\n",
    "    reel_blocks = soup.find_all('div', class_='pam _3-95 _2ph- _a6-g uiBoxWhite noborder')\n",
    "    \n",
    "    reels_data = []\n",
    "    \n",
    "    for block in reel_blocks:\n",
    "        reel_info = {}\n",
    "        \n",
    "        # Extract video source\n",
    "        video = block.find('video')\n",
    "        if video and video.get('src'):\n",
    "            reel_info['Video Source'] = video['src']\n",
    "        \n",
    "        # Extract caption\n",
    "        caption_div = block.find('td', class_='_2pin _a6_q', colspan='2')\n",
    "        if caption_div:\n",
    "            caption_text = caption_div.find_all('div')[-1].get_text(strip=True)\n",
    "            reel_info['Caption'] = caption_text\n",
    "        \n",
    "        # Extract upload timestamp\n",
    "        timestamp_td = block.find('td', class_='_2pin _2piu _a6_r')\n",
    "        if timestamp_td:\n",
    "            reel_info['Upload Timestamp'] = timestamp_td.get_text(strip=True)\n",
    "        \n",
    "        reels_data.append(reel_info)\n",
    "    \n",
    "    return reels_data\n",
    "\n",
    "\n"
   ]
  },
  {
   "cell_type": "code",
   "execution_count": null,
   "metadata": {},
   "outputs": [],
   "source": [
    "# Function to extract numeric data from HTML content\n",
    "def extract_numeric_info(html_content, post_number, column_number):\n",
    "    # Parse the HTML content\n",
    "    tree = html.fromstring(html_content)\n",
    "    \n",
    "    # Use the specific XPath\n",
    "    xpath = f'/html/body/div/div/div/div[2]/div[2]/div[{post_number}]/div/table[2]/tbody/tr[{column_number}]/td'\n",
    "\n",
    "    # Find the element\n",
    "    elements = tree.xpath(xpath)\n",
    "    \n",
    "    # Extract and process the text\n",
    "    data = []\n",
    "    for element in elements:\n",
    "        # Get the text of the element, stripping whitespace\n",
    "        text = element.text_content().strip()\n",
    "        data.append(text)\n",
    "    return data"
   ]
  },
  {
   "cell_type": "code",
   "execution_count": null,
   "metadata": {},
   "outputs": [],
   "source": [
    "myFile=open('reels.html','r')\n",
    "soup=BeautifulSoup(myFile,\"html5lib\")\n",
    "\n",
    "html_content = soup.prettify()\n",
    "\n",
    "# Extract reels text data\n",
    "reels = extract_text_info(html_content)\n",
    "\n",
    "# Convert to DataFrame\n",
    "df = pd.DataFrame(reels)\n",
    "\n",
    "total_posts = df.shape[0] - 1\n",
    "\n",
    "# Pass first 2 columns to get the column names\n",
    "for column_number in range(3, 10):\n",
    "        scraped_data = extract_numeric_info(html_content, 1, column_number)\n",
    "        column_name=scraped_data[0].replace('\\n', '').rsplit(' ', 1)[0].replace(' ', '')\n",
    "        info = scraped_data[0].replace('\\n', '').rsplit(' ', 1)[1].replace(' ', '')\n",
    "        \n",
    "        df[column_name] = int(info)\n",
    "\n",
    "\n",
    "# Extract numeric data for each post\n",
    "for post_number in range(1, total_posts):\n",
    "    for column_number in range(3, 10):\n",
    "        scraped_data = extract_numeric_info(html_content, post_number, column_number)\n",
    "        column_name=scraped_data[0].replace('\\n', '').rsplit(' ', 1)[0].replace(' ', '')\n",
    "        info = scraped_data[0].replace('\\n', '').rsplit(' ', 1)[1].replace(' ', '')\n",
    "        \n",
    "        df.loc[post_number-1, column_name] = int(info)\n",
    "\n",
    "\n",
    "df.to_csv('reels_data.csv', index=False, encoding='utf-8')\n"
   ]
  }
 ],
 "metadata": {
  "kernelspec": {
   "display_name": "Python 3",
   "language": "python",
   "name": "python3"
  },
  "language_info": {
   "codemirror_mode": {
    "name": "ipython",
    "version": 3
   },
   "file_extension": ".py",
   "mimetype": "text/x-python",
   "name": "python",
   "nbconvert_exporter": "python",
   "pygments_lexer": "ipython3",
   "version": "3.11.10"
  }
 },
 "nbformat": 4,
 "nbformat_minor": 2
}
